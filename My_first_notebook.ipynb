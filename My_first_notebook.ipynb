{
  "nbformat": 4,
  "nbformat_minor": 0,
  "metadata": {
    "colab": {
      "provenance": []
    },
    "kernelspec": {
      "name": "python3",
      "display_name": "Python 3"
    },
    "language_info": {
      "name": "python"
    }
  },
  "cells": [
    {
      "cell_type": "markdown",
      "source": [
        "This is my first markdown cell in jupyter notebook."
      ],
      "metadata": {
        "id": "o2WWWLs7R0TH"
      }
    },
    {
      "cell_type": "code",
      "source": [
        "print(\"How are you doing today?\")"
      ],
      "metadata": {
        "colab": {
          "base_uri": "https://localhost:8080/"
        },
        "id": "sthSXXrkSZCL",
        "outputId": "fd9c37c2-0657-4482-e13f-8e17e9d46475"
      },
      "execution_count": null,
      "outputs": [
        {
          "output_type": "stream",
          "name": "stdout",
          "text": [
            "How are you doing today?\n"
          ]
        }
      ]
    },
    {
      "cell_type": "code",
      "source": [],
      "metadata": {
        "id": "ZX7rkY_aSh3n"
      },
      "execution_count": null,
      "outputs": []
    }
  ]
}